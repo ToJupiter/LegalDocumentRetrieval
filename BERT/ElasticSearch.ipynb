{
 "cells": [
  {
   "cell_type": "code",
   "execution_count": 5,
   "metadata": {},
   "outputs": [
    {
     "name": "stdout",
     "output_type": "stream",
     "text": [
      "Creating index and inserting documents...\n"
     ]
    },
    {
     "name": "stderr",
     "output_type": "stream",
     "text": [
      "/tmp/ipykernel_93847/3873745777.py:31: ElasticsearchWarning: Elasticsearch built-in security features are not enabled. Without authentication, your cluster could be accessible to anyone. See https://www.elastic.co/guide/en/elasticsearch/reference/7.17/security-minimal-setup.html to enable security.\n",
      "  if not es.indices.exists(index=index_name):\n",
      "  0%|          | 0/261597 [00:00<?, ?it/s]/tmp/ipykernel_93847/3873745777.py:40: ElasticsearchWarning: Elasticsearch built-in security features are not enabled. Without authentication, your cluster could be accessible to anyone. See https://www.elastic.co/guide/en/elasticsearch/reference/7.17/security-minimal-setup.html to enable security.\n",
      "  es.index(index=index_name, document=doc)\n",
      "100%|██████████| 261597/261597 [49:06<00:00, 88.78it/s] \n",
      "/tmp/ipykernel_93847/3873745777.py:43: ElasticsearchWarning: Elasticsearch built-in security features are not enabled. Without authentication, your cluster could be accessible to anyone. See https://www.elastic.co/guide/en/elasticsearch/reference/7.17/security-minimal-setup.html to enable security.\n",
      "  es.indices.refresh(index=index_name)\n"
     ]
    },
    {
     "name": "stdout",
     "output_type": "stream",
     "text": [
      "Performing search...\n"
     ]
    },
    {
     "name": "stderr",
     "output_type": "stream",
     "text": [
      "  0%|          | 0/10000 [00:00<?, ?it/s]/tmp/ipykernel_93847/3873745777.py:66: ElasticsearchWarning: Elasticsearch built-in security features are not enabled. Without authentication, your cluster could be accessible to anyone. See https://www.elastic.co/guide/en/elasticsearch/reference/7.17/security-minimal-setup.html to enable security.\n",
      "  response = es.search(index=\"document_search\", body=search_body)\n",
      "100%|██████████| 10000/10000 [09:11<00:00, 18.12it/s]\n"
     ]
    },
    {
     "name": "stdout",
     "output_type": "stream",
     "text": [
      "Results saved to search_results.json\n"
     ]
    }
   ],
   "source": [
    "from elasticsearch import Elasticsearch\n",
    "import pandas as pd\n",
    "import json\n",
    "from tqdm import tqdm\n",
    "\n",
    "# Connect to Elasticsearch\n",
    "es = Elasticsearch(\"http://localhost:9200\")\n",
    "\n",
    "# Function to create the index and insert documents\n",
    "def create_index_and_insert_docs(corpus_file):\n",
    "    # Read corpus\n",
    "    corpus_df = pd.read_csv(corpus_file)\n",
    "    \n",
    "    # Create index with appropriate mappings\n",
    "    index_name = \"document_search\"\n",
    "    mapping = {\n",
    "        \"mappings\": {\n",
    "            \"properties\": {\n",
    "                \"text\": {\n",
    "                    \"type\": \"text\",\n",
    "                    \"analyzer\": \"standard\"\n",
    "                },\n",
    "                \"cid\": {\n",
    "                    \"type\": \"keyword\"\n",
    "                }\n",
    "            }\n",
    "        }\n",
    "    }\n",
    "    \n",
    "    # Create index if it doesn't exist\n",
    "    if not es.indices.exists(index=index_name):\n",
    "        es.indices.create(index=index_name, body=mapping)\n",
    "    \n",
    "    # Insert documents\n",
    "    for _, row in tqdm(corpus_df.iterrows(), total=len(corpus_df)):\n",
    "        doc = {\n",
    "            \"text\": row['text'],\n",
    "            \"cid\": row['cid']\n",
    "        }\n",
    "        es.index(index=index_name, document=doc)\n",
    "    \n",
    "    # Refresh index\n",
    "    es.indices.refresh(index=index_name)\n",
    "\n",
    "# Function to search and create results\n",
    "def search_and_create_results(queries_file, topk=50):\n",
    "    # Read queries\n",
    "    queries_df = pd.read_csv(queries_file)\n",
    "    \n",
    "    json_results = []\n",
    "    \n",
    "    for _, row in tqdm(queries_df.iterrows(), total=len(queries_df)):\n",
    "        query = row['question']\n",
    "        qid = row['qid']\n",
    "        \n",
    "        # Search query\n",
    "        search_body = {\n",
    "            \"size\": topk,\n",
    "            \"query\": {\n",
    "                \"match\": {\n",
    "                    \"text\": query\n",
    "                }\n",
    "            }\n",
    "        }\n",
    "        \n",
    "        response = es.search(index=\"document_search\", body=search_body)\n",
    "        \n",
    "        # Extract results\n",
    "        top_cids = []\n",
    "        similarity_scores = []\n",
    "        \n",
    "        for hit in response['hits']['hits']:\n",
    "            top_cids.append(hit['_source']['cid'])\n",
    "            similarity_scores.append(hit['_score'])\n",
    "        \n",
    "        # Create JSON entry\n",
    "        json_entry = {\n",
    "            \"query_id\": qid,\n",
    "            \"candidates\": {\n",
    "                \"doc_ids\": top_cids,\n",
    "                \"scores\": similarity_scores\n",
    "            }\n",
    "        }\n",
    "        \n",
    "        json_results.append(json_entry)\n",
    "    \n",
    "    return json_results\n",
    "\n",
    "def main():\n",
    "    # File paths\n",
    "    corpus_file = \"/home/LegalDocumentRetrieval-20241027T111633Z-001/BERT/preprocessed_corpus.csv\"\n",
    "    queries_file = \"/home/LegalDocumentRetrieval-20241027T111633Z-001/LegalDocumentRetrieval/public_test.csv\"\n",
    "    output_file = \"search_results.json\"\n",
    "    \n",
    "    # Create index and insert documents\n",
    "    print(\"Creating index and inserting documents...\")\n",
    "    create_index_and_insert_docs(corpus_file)\n",
    "    \n",
    "    # Perform search and create results\n",
    "    print(\"Performing search...\")\n",
    "    results = search_and_create_results(queries_file)\n",
    "    \n",
    "    # Save results\n",
    "    with open(output_file, 'w') as f:\n",
    "        json.dump(results, f, indent=2)\n",
    "    \n",
    "    print(f\"Results saved to {output_file}\")\n",
    "\n",
    "if __name__ == \"__main__\":\n",
    "    main()"
   ]
  }
 ],
 "metadata": {
  "kernelspec": {
   "display_name": "ml_env",
   "language": "python",
   "name": "python3"
  },
  "language_info": {
   "codemirror_mode": {
    "name": "ipython",
    "version": 3
   },
   "file_extension": ".py",
   "mimetype": "text/x-python",
   "name": "python",
   "nbconvert_exporter": "python",
   "pygments_lexer": "ipython3",
   "version": "3.10.13"
  }
 },
 "nbformat": 4,
 "nbformat_minor": 2
}
